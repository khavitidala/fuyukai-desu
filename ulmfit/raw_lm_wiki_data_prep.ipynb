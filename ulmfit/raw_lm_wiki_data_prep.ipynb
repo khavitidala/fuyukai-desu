{
  "nbformat": 4,
  "nbformat_minor": 0,
  "metadata": {
    "colab": {
      "name": "raw_lm_wiki_data-prep.ipynb",
      "provenance": [],
      "collapsed_sections": [],
      "mount_file_id": "1CAXsb8n2P66T5EQNoh_py7Tj6LveinYD",
      "authorship_tag": "ABX9TyP1UOGCHNCVDkFiSNaTu/aC",
      "include_colab_link": true
    },
    "kernelspec": {
      "name": "python3",
      "display_name": "Python 3"
    },
    "language_info": {
      "name": "python"
    }
  },
  "cells": [
    {
      "cell_type": "markdown",
      "metadata": {
        "id": "view-in-github",
        "colab_type": "text"
      },
      "source": [
        "<a href=\"https://colab.research.google.com/github/khavitidala/fuyukai-desu/blob/main/ulmfit/raw_lm_wiki_data_prep.ipynb\" target=\"_parent\"><img src=\"https://colab.research.google.com/assets/colab-badge.svg\" alt=\"Open In Colab\"/></a>"
      ]
    },
    {
      "cell_type": "code",
      "metadata": {
        "colab": {
          "base_uri": "https://localhost:8080/"
        },
        "id": "6IrvxFgrNFIr",
        "outputId": "c882c4d1-c896-46d3-e78a-873f77463b6d"
      },
      "source": [
        "from google.colab import drive\n",
        "drive.mount('/content/drive')"
      ],
      "execution_count": null,
      "outputs": [
        {
          "output_type": "stream",
          "name": "stdout",
          "text": [
            "Mounted at /content/drive\n"
          ]
        }
      ]
    },
    {
      "cell_type": "code",
      "metadata": {
        "colab": {
          "base_uri": "https://localhost:8080/"
        },
        "id": "p3BJpE6WAAjV",
        "outputId": "98dc5c72-8707-4ee1-c6b4-dbd78be9c005"
      },
      "source": [
        "!wget https://dumps.wikimedia.org/idwiki/latest/idwiki-latest-pages-articles.xml.bz2"
      ],
      "execution_count": 1,
      "outputs": [
        {
          "output_type": "stream",
          "name": "stdout",
          "text": [
            "--2021-11-25 02:50:14--  https://dumps.wikimedia.org/idwiki/latest/idwiki-latest-pages-articles.xml.bz2\n",
            "Resolving dumps.wikimedia.org (dumps.wikimedia.org)... 208.80.154.7, 2620:0:861:1:208:80:154:7\n",
            "Connecting to dumps.wikimedia.org (dumps.wikimedia.org)|208.80.154.7|:443... connected.\n",
            "HTTP request sent, awaiting response... 200 OK\n",
            "Length: 725432365 (692M) [application/octet-stream]\n",
            "Saving to: ‘idwiki-latest-pages-articles.xml.bz2’\n",
            "\n",
            "idwiki-latest-pages 100%[===================>] 691.83M  4.93MB/s    in 2m 23s  \n",
            "\n",
            "2021-11-25 02:52:39 (4.82 MB/s) - ‘idwiki-latest-pages-articles.xml.bz2’ saved [725432365/725432365]\n",
            "\n"
          ]
        }
      ]
    },
    {
      "cell_type": "code",
      "metadata": {
        "colab": {
          "base_uri": "https://localhost:8080/"
        },
        "id": "GrQBZ-sKCE-I",
        "outputId": "9c0468f3-7483-41da-dcb4-b3b59c0831c2"
      },
      "source": [
        "!apt install bzip2 "
      ],
      "execution_count": 7,
      "outputs": [
        {
          "output_type": "stream",
          "name": "stdout",
          "text": [
            "Reading package lists... Done\n",
            "Building dependency tree       \n",
            "Reading state information... Done\n",
            "bzip2 is already the newest version (1.0.6-8.1ubuntu0.2).\n",
            "0 upgraded, 0 newly installed, 0 to remove and 37 not upgraded.\n"
          ]
        }
      ]
    },
    {
      "cell_type": "code",
      "metadata": {
        "id": "Zc_OoNKyApVJ"
      },
      "source": [
        "!bzip2 -d /content/drive/MyDrive/Riset/idwiki-latest-pages-articles.xml.bz2"
      ],
      "execution_count": 8,
      "outputs": []
    },
    {
      "cell_type": "code",
      "metadata": {
        "colab": {
          "base_uri": "https://localhost:8080/"
        },
        "id": "6w269NhwEu7C",
        "outputId": "5dec2f92-8373-4e9e-85cd-e5473649942b"
      },
      "source": [
        "!pip install wikiextractor"
      ],
      "execution_count": 16,
      "outputs": [
        {
          "output_type": "stream",
          "name": "stdout",
          "text": [
            "Collecting wikiextractor\n",
            "  Downloading wikiextractor-3.0.6-py3-none-any.whl (46 kB)\n",
            "\u001b[K     |████████████████████████████████| 46 kB 1.7 MB/s \n",
            "\u001b[?25hInstalling collected packages: wikiextractor\n",
            "Successfully installed wikiextractor-3.0.6\n"
          ]
        }
      ]
    },
    {
      "cell_type": "code",
      "metadata": {
        "colab": {
          "base_uri": "https://localhost:8080/"
        },
        "id": "adbSBx5IE5Lv",
        "outputId": "3bd4d705-f667-4114-d8bb-57b29f3ae67f"
      },
      "source": [
        "!python -m wikiextractor.WikiExtractor /content/drive/MyDrive/Riset/idwiki-latest-pages-articles.xml --no-templates -o /content/drive/MyDrive/Riset/wiki/ --json"
      ],
      "execution_count": 19,
      "outputs": [
        {
          "output_type": "stream",
          "name": "stdout",
          "text": [
            "INFO: Starting page extraction from /content/drive/MyDrive/Riset/idwiki-latest-pages-articles.xml.\n",
            "INFO: Using 1 extract processes.\n",
            "INFO: Extracted 100000 articles (981.5 art/s)\n",
            "INFO: Extracted 200000 articles (1368.1 art/s)\n",
            "INFO: Extracted 300000 articles (1535.9 art/s)\n",
            "INFO: Extracted 400000 articles (1442.9 art/s)\n",
            "INFO: Extracted 500000 articles (1396.3 art/s)\n",
            "INFO: Extracted 600000 articles (1485.4 art/s)\n",
            "INFO: Extracted 700000 articles (1308.0 art/s)\n",
            "INFO: Extracted 800000 articles (1962.7 art/s)\n",
            "INFO: Extracted 900000 articles (1419.8 art/s)\n",
            "INFO: Extracted 1000000 articles (1368.7 art/s)\n",
            "INFO: Extracted 1100000 articles (1255.8 art/s)\n",
            "INFO: Finished 1-process extraction of 1149642 articles in 837.9s (1372.1 art/s)\n"
          ]
        }
      ]
    },
    {
      "cell_type": "code",
      "metadata": {
        "id": "AKYZZbMQQMCW"
      },
      "source": [
        "import json\n",
        "import pathlib\n",
        "import numpy as np\n",
        "import pandas as pd\n",
        "import html\n",
        "import re\n",
        "from fastai.text import *"
      ],
      "execution_count": 83,
      "outputs": []
    },
    {
      "cell_type": "code",
      "metadata": {
        "id": "MNoegnR8Q-de"
      },
      "source": [
        "from tqdm import tqdm"
      ],
      "execution_count": 2,
      "outputs": []
    },
    {
      "cell_type": "code",
      "metadata": {
        "id": "YrA7xD93QWXm"
      },
      "source": [
        "LANG = 'id'\n",
        "PATH_ROOT = Path(f'/content/drive/MyDrive/Riset/')\n",
        "PATH_EXTRACT = Path(f'{PATH_ROOT}/wiki/')\n",
        "PATH_TMP = Path(f'{PATH_ROOT}/tmp/')"
      ],
      "execution_count": 90,
      "outputs": []
    },
    {
      "cell_type": "code",
      "metadata": {
        "colab": {
          "base_uri": "https://localhost:8080/"
        },
        "id": "rTsKxEAFQvNy",
        "outputId": "8f97ec1d-3ee1-4a63-ec81-2c1fbb30612d"
      },
      "source": [
        "LANG_FILENAMES = [str(f) for f in PATH_EXTRACT.rglob(\"*/wiki_*\")]\n",
        "print(len(LANG_FILENAMES))\n",
        "LANG_FILENAMES[0:5]"
      ],
      "execution_count": 22,
      "outputs": [
        {
          "output_type": "stream",
          "name": "stdout",
          "text": [
            "787\n"
          ]
        },
        {
          "output_type": "execute_result",
          "data": {
            "text/plain": [
              "['/content/drive/MyDrive/Riset/wiki/AA/wiki_00',\n",
              " '/content/drive/MyDrive/Riset/wiki/AA/wiki_01',\n",
              " '/content/drive/MyDrive/Riset/wiki/AA/wiki_02',\n",
              " '/content/drive/MyDrive/Riset/wiki/AA/wiki_03',\n",
              " '/content/drive/MyDrive/Riset/wiki/AA/wiki_04']"
            ]
          },
          "metadata": {},
          "execution_count": 22
        }
      ]
    },
    {
      "cell_type": "code",
      "metadata": {
        "colab": {
          "base_uri": "https://localhost:8080/"
        },
        "id": "Ejn9YTSxQ42k",
        "outputId": "98004cd2-5fbe-495e-e944-297471e8d4f3"
      },
      "source": [
        "LANG_TEXT = []\n",
        "for fn in tqdm(LANG_FILENAMES):\n",
        "    for line in open(fn, encoding='utf8'):\n",
        "        LANG_TEXT.append(json.loads(line))\n",
        "        \n",
        "LANG_TEXT = pd.DataFrame(LANG_TEXT)"
      ],
      "execution_count": 36,
      "outputs": [
        {
          "output_type": "stream",
          "name": "stderr",
          "text": [
            "100%|██████████| 787/787 [00:12<00:00, 62.85it/s]\n"
          ]
        }
      ]
    },
    {
      "cell_type": "code",
      "metadata": {
        "colab": {
          "base_uri": "https://localhost:8080/",
          "height": 206
        },
        "id": "1ApdqxLxRXo9",
        "outputId": "306dc274-904e-41ff-a097-5136c91f814e"
      },
      "source": [
        "LANG_TEXT.head()"
      ],
      "execution_count": 37,
      "outputs": [
        {
          "output_type": "execute_result",
          "data": {
            "text/html": [
              "<div>\n",
              "<style scoped>\n",
              "    .dataframe tbody tr th:only-of-type {\n",
              "        vertical-align: middle;\n",
              "    }\n",
              "\n",
              "    .dataframe tbody tr th {\n",
              "        vertical-align: top;\n",
              "    }\n",
              "\n",
              "    .dataframe thead th {\n",
              "        text-align: right;\n",
              "    }\n",
              "</style>\n",
              "<table border=\"1\" class=\"dataframe\">\n",
              "  <thead>\n",
              "    <tr style=\"text-align: right;\">\n",
              "      <th></th>\n",
              "      <th>id</th>\n",
              "      <th>revid</th>\n",
              "      <th>url</th>\n",
              "      <th>title</th>\n",
              "      <th>text</th>\n",
              "    </tr>\n",
              "  </thead>\n",
              "  <tbody>\n",
              "    <tr>\n",
              "      <th>0</th>\n",
              "      <td>1</td>\n",
              "      <td>1223933</td>\n",
              "      <td>https://id.wikipedia.org/wiki?curid=1</td>\n",
              "      <td>Asam deoksiribonukleat</td>\n",
              "      <td>Asam deoksiribonukleat, lebih dikenal dengan s...</td>\n",
              "    </tr>\n",
              "    <tr>\n",
              "      <th>1</th>\n",
              "      <td>2</td>\n",
              "      <td>156791</td>\n",
              "      <td>https://id.wikipedia.org/wiki?curid=2</td>\n",
              "      <td>Asam Deoksiribosanukleat</td>\n",
              "      <td></td>\n",
              "    </tr>\n",
              "    <tr>\n",
              "      <th>2</th>\n",
              "      <td>3</td>\n",
              "      <td>1218443</td>\n",
              "      <td>https://id.wikipedia.org/wiki?curid=3</td>\n",
              "      <td>Anwar Sadat</td>\n",
              "      <td>Muhammad Anwar el-Sadat; ) adalah seorang poli...</td>\n",
              "    </tr>\n",
              "    <tr>\n",
              "      <th>3</th>\n",
              "      <td>4</td>\n",
              "      <td>1119670</td>\n",
              "      <td>https://id.wikipedia.org/wiki?curid=4</td>\n",
              "      <td>Azhar Mansor</td>\n",
              "      <td>Datuk Azhar Mansor adalah orang Malaysia perta...</td>\n",
              "    </tr>\n",
              "    <tr>\n",
              "      <th>4</th>\n",
              "      <td>5</td>\n",
              "      <td>1217152</td>\n",
              "      <td>https://id.wikipedia.org/wiki?curid=5</td>\n",
              "      <td>Arkeologi</td>\n",
              "      <td>Arkeologi atau ilmu kepurbakalaan adalah ilmu ...</td>\n",
              "    </tr>\n",
              "  </tbody>\n",
              "</table>\n",
              "</div>"
            ],
            "text/plain": [
              "  id  ...                                               text\n",
              "0  1  ...  Asam deoksiribonukleat, lebih dikenal dengan s...\n",
              "1  2  ...                                                   \n",
              "2  3  ...  Muhammad Anwar el-Sadat; ) adalah seorang poli...\n",
              "3  4  ...  Datuk Azhar Mansor adalah orang Malaysia perta...\n",
              "4  5  ...  Arkeologi atau ilmu kepurbakalaan adalah ilmu ...\n",
              "\n",
              "[5 rows x 5 columns]"
            ]
          },
          "metadata": {},
          "execution_count": 37
        }
      ]
    },
    {
      "cell_type": "code",
      "metadata": {
        "colab": {
          "base_uri": "https://localhost:8080/"
        },
        "id": "ri0oAkOVRxXg",
        "outputId": "3a4a3ffa-3911-40d8-9af5-ea943aebb123"
      },
      "source": [
        "LANG_TEXT.shape"
      ],
      "execution_count": 38,
      "outputs": [
        {
          "output_type": "execute_result",
          "data": {
            "text/plain": [
              "(1149641, 5)"
            ]
          },
          "metadata": {},
          "execution_count": 38
        }
      ]
    },
    {
      "cell_type": "code",
      "metadata": {
        "id": "iKjmRhQvRfth"
      },
      "source": [
        "# Getting rid of the title name in the text field\n",
        "def split_title_from_text(text):\n",
        "    words = text.split(\"\\n\\n\")\n",
        "    if len(words) >= 2:\n",
        "        return ''.join(words[1:])\n",
        "    else:\n",
        "        return ''.join(words)\n",
        "    \n",
        "LANG_TEXT['text'] = LANG_TEXT['text'].apply(lambda x: split_title_from_text(x))"
      ],
      "execution_count": 39,
      "outputs": []
    },
    {
      "cell_type": "code",
      "metadata": {
        "colab": {
          "base_uri": "https://localhost:8080/",
          "height": 206
        },
        "id": "k2B3ommmRjR9",
        "outputId": "9a4b2f9b-1d20-487d-cb03-0c80a45d22fe"
      },
      "source": [
        "LANG_TEXT.head()"
      ],
      "execution_count": 40,
      "outputs": [
        {
          "output_type": "execute_result",
          "data": {
            "text/html": [
              "<div>\n",
              "<style scoped>\n",
              "    .dataframe tbody tr th:only-of-type {\n",
              "        vertical-align: middle;\n",
              "    }\n",
              "\n",
              "    .dataframe tbody tr th {\n",
              "        vertical-align: top;\n",
              "    }\n",
              "\n",
              "    .dataframe thead th {\n",
              "        text-align: right;\n",
              "    }\n",
              "</style>\n",
              "<table border=\"1\" class=\"dataframe\">\n",
              "  <thead>\n",
              "    <tr style=\"text-align: right;\">\n",
              "      <th></th>\n",
              "      <th>id</th>\n",
              "      <th>revid</th>\n",
              "      <th>url</th>\n",
              "      <th>title</th>\n",
              "      <th>text</th>\n",
              "    </tr>\n",
              "  </thead>\n",
              "  <tbody>\n",
              "    <tr>\n",
              "      <th>0</th>\n",
              "      <td>1</td>\n",
              "      <td>1223933</td>\n",
              "      <td>https://id.wikipedia.org/wiki?curid=1</td>\n",
              "      <td>Asam deoksiribonukleat</td>\n",
              "      <td>Asam deoksiribonukleat, lebih dikenal dengan s...</td>\n",
              "    </tr>\n",
              "    <tr>\n",
              "      <th>1</th>\n",
              "      <td>2</td>\n",
              "      <td>156791</td>\n",
              "      <td>https://id.wikipedia.org/wiki?curid=2</td>\n",
              "      <td>Asam Deoksiribosanukleat</td>\n",
              "      <td></td>\n",
              "    </tr>\n",
              "    <tr>\n",
              "      <th>2</th>\n",
              "      <td>3</td>\n",
              "      <td>1218443</td>\n",
              "      <td>https://id.wikipedia.org/wiki?curid=3</td>\n",
              "      <td>Anwar Sadat</td>\n",
              "      <td>Muhammad Anwar el-Sadat; ) adalah seorang poli...</td>\n",
              "    </tr>\n",
              "    <tr>\n",
              "      <th>3</th>\n",
              "      <td>4</td>\n",
              "      <td>1119670</td>\n",
              "      <td>https://id.wikipedia.org/wiki?curid=4</td>\n",
              "      <td>Azhar Mansor</td>\n",
              "      <td>Datuk Azhar Mansor adalah orang Malaysia perta...</td>\n",
              "    </tr>\n",
              "    <tr>\n",
              "      <th>4</th>\n",
              "      <td>5</td>\n",
              "      <td>1217152</td>\n",
              "      <td>https://id.wikipedia.org/wiki?curid=5</td>\n",
              "      <td>Arkeologi</td>\n",
              "      <td>Arkeologi atau ilmu kepurbakalaan adalah ilmu ...</td>\n",
              "    </tr>\n",
              "  </tbody>\n",
              "</table>\n",
              "</div>"
            ],
            "text/plain": [
              "  id  ...                                               text\n",
              "0  1  ...  Asam deoksiribonukleat, lebih dikenal dengan s...\n",
              "1  2  ...                                                   \n",
              "2  3  ...  Muhammad Anwar el-Sadat; ) adalah seorang poli...\n",
              "3  4  ...  Datuk Azhar Mansor adalah orang Malaysia perta...\n",
              "4  5  ...  Arkeologi atau ilmu kepurbakalaan adalah ilmu ...\n",
              "\n",
              "[5 rows x 5 columns]"
            ]
          },
          "metadata": {},
          "execution_count": 40
        }
      ]
    },
    {
      "cell_type": "markdown",
      "metadata": {
        "id": "bvxG2nnISD41"
      },
      "source": [
        "Sorting the articles by length and keeping the first million."
      ]
    },
    {
      "cell_type": "code",
      "metadata": {
        "id": "-d2XyX0pSHuY"
      },
      "source": [
        "LANG_TEXT = LANG_TEXT.assign(length = 0)\n",
        "LANG_TEXT.columns = ['id', 'revid','url', 'title', 'text', 'length']\n",
        "LANG_TEXT = LANG_TEXT.assign(labels = 0).pipe(lambda x: x[['labels', 'text', 'length']])"
      ],
      "execution_count": 41,
      "outputs": []
    },
    {
      "cell_type": "code",
      "metadata": {
        "colab": {
          "base_uri": "https://localhost:8080/",
          "height": 206
        },
        "id": "nj0fi0HDSaaY",
        "outputId": "d41e8498-b0bb-4880-bffe-6d84175cc29e"
      },
      "source": [
        "LANG_TEXT.head()"
      ],
      "execution_count": 42,
      "outputs": [
        {
          "output_type": "execute_result",
          "data": {
            "text/html": [
              "<div>\n",
              "<style scoped>\n",
              "    .dataframe tbody tr th:only-of-type {\n",
              "        vertical-align: middle;\n",
              "    }\n",
              "\n",
              "    .dataframe tbody tr th {\n",
              "        vertical-align: top;\n",
              "    }\n",
              "\n",
              "    .dataframe thead th {\n",
              "        text-align: right;\n",
              "    }\n",
              "</style>\n",
              "<table border=\"1\" class=\"dataframe\">\n",
              "  <thead>\n",
              "    <tr style=\"text-align: right;\">\n",
              "      <th></th>\n",
              "      <th>labels</th>\n",
              "      <th>text</th>\n",
              "      <th>length</th>\n",
              "    </tr>\n",
              "  </thead>\n",
              "  <tbody>\n",
              "    <tr>\n",
              "      <th>0</th>\n",
              "      <td>0</td>\n",
              "      <td>Asam deoksiribonukleat, lebih dikenal dengan s...</td>\n",
              "      <td>0</td>\n",
              "    </tr>\n",
              "    <tr>\n",
              "      <th>1</th>\n",
              "      <td>0</td>\n",
              "      <td></td>\n",
              "      <td>0</td>\n",
              "    </tr>\n",
              "    <tr>\n",
              "      <th>2</th>\n",
              "      <td>0</td>\n",
              "      <td>Muhammad Anwar el-Sadat; ) adalah seorang poli...</td>\n",
              "      <td>0</td>\n",
              "    </tr>\n",
              "    <tr>\n",
              "      <th>3</th>\n",
              "      <td>0</td>\n",
              "      <td>Datuk Azhar Mansor adalah orang Malaysia perta...</td>\n",
              "      <td>0</td>\n",
              "    </tr>\n",
              "    <tr>\n",
              "      <th>4</th>\n",
              "      <td>0</td>\n",
              "      <td>Arkeologi atau ilmu kepurbakalaan adalah ilmu ...</td>\n",
              "      <td>0</td>\n",
              "    </tr>\n",
              "  </tbody>\n",
              "</table>\n",
              "</div>"
            ],
            "text/plain": [
              "   labels                                               text  length\n",
              "0       0  Asam deoksiribonukleat, lebih dikenal dengan s...       0\n",
              "1       0                                                          0\n",
              "2       0  Muhammad Anwar el-Sadat; ) adalah seorang poli...       0\n",
              "3       0  Datuk Azhar Mansor adalah orang Malaysia perta...       0\n",
              "4       0  Arkeologi atau ilmu kepurbakalaan adalah ilmu ...       0"
            ]
          },
          "metadata": {},
          "execution_count": 42
        }
      ]
    },
    {
      "cell_type": "code",
      "metadata": {
        "id": "e1BeWbClTYOt"
      },
      "source": [
        "LANG_TEXT['length'] = LANG_TEXT['text'].str.len()\n",
        "LANG_TEXT = LANG_TEXT.sort_values(by=['length'], ascending=False)"
      ],
      "execution_count": 45,
      "outputs": []
    },
    {
      "cell_type": "code",
      "metadata": {
        "colab": {
          "base_uri": "https://localhost:8080/",
          "height": 206
        },
        "id": "M9wp6zKCTmQ6",
        "outputId": "7c3099bb-31ee-4bdb-8d62-b378d9ee614d"
      },
      "source": [
        "LANG_TEXT.head()"
      ],
      "execution_count": 46,
      "outputs": [
        {
          "output_type": "execute_result",
          "data": {
            "text/html": [
              "<div>\n",
              "<style scoped>\n",
              "    .dataframe tbody tr th:only-of-type {\n",
              "        vertical-align: middle;\n",
              "    }\n",
              "\n",
              "    .dataframe tbody tr th {\n",
              "        vertical-align: top;\n",
              "    }\n",
              "\n",
              "    .dataframe thead th {\n",
              "        text-align: right;\n",
              "    }\n",
              "</style>\n",
              "<table border=\"1\" class=\"dataframe\">\n",
              "  <thead>\n",
              "    <tr style=\"text-align: right;\">\n",
              "      <th></th>\n",
              "      <th>labels</th>\n",
              "      <th>text</th>\n",
              "      <th>length</th>\n",
              "    </tr>\n",
              "  </thead>\n",
              "  <tbody>\n",
              "    <tr>\n",
              "      <th>1126518</th>\n",
              "      <td>0</td>\n",
              "      <td>Atala Riffo and Daughters v. Chile (bahasa Ind...</td>\n",
              "      <td>403071</td>\n",
              "    </tr>\n",
              "    <tr>\n",
              "      <th>12731</th>\n",
              "      <td>0</td>\n",
              "      <td>Sejarah Maritim Nusantara dan Tentara Nasional...</td>\n",
              "      <td>242121</td>\n",
              "    </tr>\n",
              "    <tr>\n",
              "      <th>5013</th>\n",
              "      <td>0</td>\n",
              "      <td>Josef Stalin (terlahir dengan nama Ioseb Besar...</td>\n",
              "      <td>149676</td>\n",
              "    </tr>\n",
              "    <tr>\n",
              "      <th>180009</th>\n",
              "      <td>0</td>\n",
              "      <td>Kemilau Cinta Kamila (disingkat KCK) adalah si...</td>\n",
              "      <td>141209</td>\n",
              "    </tr>\n",
              "    <tr>\n",
              "      <th>23021</th>\n",
              "      <td>0</td>\n",
              "      <td>Di bidang historiografi, Romawi Kuno adalah se...</td>\n",
              "      <td>138582</td>\n",
              "    </tr>\n",
              "  </tbody>\n",
              "</table>\n",
              "</div>"
            ],
            "text/plain": [
              "         labels                                               text  length\n",
              "1126518       0  Atala Riffo and Daughters v. Chile (bahasa Ind...  403071\n",
              "12731         0  Sejarah Maritim Nusantara dan Tentara Nasional...  242121\n",
              "5013          0  Josef Stalin (terlahir dengan nama Ioseb Besar...  149676\n",
              "180009        0  Kemilau Cinta Kamila (disingkat KCK) adalah si...  141209\n",
              "23021         0  Di bidang historiografi, Romawi Kuno adalah se...  138582"
            ]
          },
          "metadata": {},
          "execution_count": 46
        }
      ]
    },
    {
      "cell_type": "code",
      "metadata": {
        "id": "2r0W2zfoTyWS"
      },
      "source": [
        "LANG_TEXT.replace('', np.nan, inplace=True)"
      ],
      "execution_count": 61,
      "outputs": []
    },
    {
      "cell_type": "code",
      "metadata": {
        "colab": {
          "base_uri": "https://localhost:8080/"
        },
        "id": "q0ibafCtUoqg",
        "outputId": "9b5377c8-0190-4c0e-b27e-0e378f65031e"
      },
      "source": [
        "LANG_TEXT.isna().sum()"
      ],
      "execution_count": 62,
      "outputs": [
        {
          "output_type": "execute_result",
          "data": {
            "text/plain": [
              "labels         0\n",
              "text      555132\n",
              "length         0\n",
              "dtype: int64"
            ]
          },
          "metadata": {},
          "execution_count": 62
        }
      ]
    },
    {
      "cell_type": "code",
      "metadata": {
        "id": "Ki7ySw4sU39D"
      },
      "source": [
        "LANG_TEXT.dropna(inplace=True)"
      ],
      "execution_count": 63,
      "outputs": []
    },
    {
      "cell_type": "code",
      "metadata": {
        "colab": {
          "base_uri": "https://localhost:8080/"
        },
        "id": "dURNb08yTrVD",
        "outputId": "cffb9c2c-1d64-4e67-a301-04b1403a4c2b"
      },
      "source": [
        "len(LANG_TEXT)"
      ],
      "execution_count": 64,
      "outputs": [
        {
          "output_type": "execute_result",
          "data": {
            "text/plain": [
              "594509"
            ]
          },
          "metadata": {},
          "execution_count": 64
        }
      ]
    },
    {
      "cell_type": "code",
      "metadata": {
        "id": "z2QHZWUDVO0a"
      },
      "source": [
        "# LANG_TEXT.to_csv(f\"{PATH_ROOT}/wiki_{LANG}_corpus.csv\", header=False, index=False)"
      ],
      "execution_count": 66,
      "outputs": []
    },
    {
      "cell_type": "code",
      "metadata": {
        "id": "FClKeAUAVrFx"
      },
      "source": [
        "LANG_TEXT = LANG_TEXT[LANG_TEXT['length'] > 10]"
      ],
      "execution_count": 67,
      "outputs": []
    },
    {
      "cell_type": "code",
      "metadata": {
        "colab": {
          "base_uri": "https://localhost:8080/"
        },
        "id": "9ryb-xfRVvf_",
        "outputId": "f4106bcc-3b9a-4a96-8901-c8f32b34d38d"
      },
      "source": [
        "len(LANG_TEXT)"
      ],
      "execution_count": 68,
      "outputs": [
        {
          "output_type": "execute_result",
          "data": {
            "text/plain": [
              "594432"
            ]
          },
          "metadata": {},
          "execution_count": 68
        }
      ]
    },
    {
      "cell_type": "code",
      "metadata": {
        "colab": {
          "base_uri": "https://localhost:8080/"
        },
        "id": "TthjB9ZvWAv7",
        "outputId": "65dda0d6-e616-4f83-bdca-035735cb1d21"
      },
      "source": [
        "# Number of documents\n",
        "print(LANG_TEXT['text'][:5])\n",
        "LANG_TEXT.shape"
      ],
      "execution_count": 69,
      "outputs": [
        {
          "output_type": "stream",
          "name": "stdout",
          "text": [
            "1126518    Atala Riffo and Daughters v. Chile (bahasa Ind...\n",
            "12731      Sejarah Maritim Nusantara dan Tentara Nasional...\n",
            "5013       Josef Stalin (terlahir dengan nama Ioseb Besar...\n",
            "180009     Kemilau Cinta Kamila (disingkat KCK) adalah si...\n",
            "23021      Di bidang historiografi, Romawi Kuno adalah se...\n",
            "Name: text, dtype: object\n"
          ]
        },
        {
          "output_type": "execute_result",
          "data": {
            "text/plain": [
              "(594432, 3)"
            ]
          },
          "metadata": {},
          "execution_count": 69
        }
      ]
    },
    {
      "cell_type": "code",
      "metadata": {
        "colab": {
          "base_uri": "https://localhost:8080/"
        },
        "id": "OSV5PbMMWKxN",
        "outputId": "e79b9a9f-5d2f-4f5d-a0bc-d8524c2ad9db"
      },
      "source": [
        "# Number of words in all the documents\n",
        "def x_split(x):\n",
        "    l = 0\n",
        "    try:\n",
        "        l = len(x.split(\" \"))\n",
        "    except AttributeError:\n",
        "        print(x)\n",
        "    return l\n",
        "\n",
        "LANG_TEXT['text'].apply(lambda x: x_split(x)).sum()"
      ],
      "execution_count": 70,
      "outputs": [
        {
          "output_type": "execute_result",
          "data": {
            "text/plain": [
              "88763936"
            ]
          },
          "metadata": {},
          "execution_count": 70
        }
      ]
    },
    {
      "cell_type": "code",
      "metadata": {
        "id": "MT7gNqRrW31o"
      },
      "source": [
        "# LANG_TEXT = pd.read_csv(f\"{PATH_ROOT}/wiki_{LANG}_corpus.csv\")\n",
        "# LANG_TEXT.columns = ['labels', 'text', 'length']\n",
        "# LANG_TEXT = LANG_TEXT[LANG_TEXT['length'] > 10]"
      ],
      "execution_count": 4,
      "outputs": []
    },
    {
      "cell_type": "code",
      "metadata": {
        "colab": {
          "base_uri": "https://localhost:8080/"
        },
        "id": "kHZRt3EFWZWJ",
        "outputId": "41cee48d-1cfe-4b0d-a652-c47a38b651ea"
      },
      "source": [
        "# Number of unique tokens across documents\n",
        "len(set(''.join(LANG_TEXT['text'].values).split(\" \")))"
      ],
      "execution_count": 7,
      "outputs": [
        {
          "output_type": "execute_result",
          "data": {
            "text/plain": [
              "4584645"
            ]
          },
          "metadata": {},
          "execution_count": 7
        }
      ]
    },
    {
      "cell_type": "markdown",
      "metadata": {
        "id": "MmHR6lKhYQIk"
      },
      "source": [
        "split each row into text files respectively"
      ]
    },
    {
      "cell_type": "code",
      "metadata": {
        "id": "i5NTY2JYcNKR"
      },
      "source": [
        "# clear plain text\n",
        "re1 = re.compile(r'  +')\n",
        "\n",
        "def fixup(x):\n",
        "    x = x.replace('#39;', \"'\").replace('amp;', '&').replace('#146;', \"'\").replace(\n",
        "        'nbsp;', ' ').replace('#36;', '$').replace('\\\\n', \"\\n\").replace('quot;', \"'\").replace(\n",
        "        '<br />', \"\\n\").replace('\\\\\"', '\"').replace('<unk>','u_n').replace(' @.@ ','.').replace(\n",
        "        ' @-@ ','-').replace('\\\\', ' \\\\ ')\n",
        "    return re1.sub(' ', html.unescape(x))"
      ],
      "execution_count": 41,
      "outputs": []
    },
    {
      "cell_type": "code",
      "metadata": {
        "id": "a-RmVcVfX0nu"
      },
      "source": [
        "def split(dft):\n",
        "  with open('/content/drive/MyDrive/Riset/tmp/wiki/id/'+str(dft.name)+'.txt', 'w') as f:\n",
        "    f.write(fixup(dft.text))"
      ],
      "execution_count": 49,
      "outputs": []
    },
    {
      "cell_type": "code",
      "metadata": {
        "colab": {
          "base_uri": "https://localhost:8080/"
        },
        "id": "Iis8wGdDY95l",
        "outputId": "c7a8dd4f-4add-4629-9460-fa62a6b7856a"
      },
      "source": [
        "LANG_TEXT.apply(split, axis=1)"
      ],
      "execution_count": 50,
      "outputs": [
        {
          "output_type": "execute_result",
          "data": {
            "text/plain": [
              "0         None\n",
              "1         None\n",
              "2         None\n",
              "3         None\n",
              "4         None\n",
              "          ... \n",
              "594426    None\n",
              "594427    None\n",
              "594428    None\n",
              "594429    None\n",
              "594430    None\n",
              "Length: 594431, dtype: object"
            ]
          },
          "metadata": {},
          "execution_count": 50
        }
      ]
    },
    {
      "cell_type": "code",
      "metadata": {
        "id": "_JTTof7lv4hz"
      },
      "source": [
        "pth = Path('/content/drive/MyDrive/Riset/tmp/wiki/id/')"
      ],
      "execution_count": 62,
      "outputs": []
    },
    {
      "cell_type": "code",
      "metadata": {
        "colab": {
          "base_uri": "https://localhost:8080/"
        },
        "id": "LZ5cQNVZxUFb",
        "outputId": "8bc14849-5c27-4c45-e2f8-6d5f44a0aca3"
      },
      "source": [
        "len(pth.ls())"
      ],
      "execution_count": 69,
      "outputs": [
        {
          "output_type": "execute_result",
          "data": {
            "text/plain": [
              "594431"
            ]
          },
          "metadata": {},
          "execution_count": 69
        }
      ]
    },
    {
      "cell_type": "code",
      "metadata": {
        "id": "X-kOscyAyBdX"
      },
      "source": [
        "!tar cvf wiki_id_594431.tar /content/drive/MyDrive/Riset/tmp/wiki/id/"
      ],
      "execution_count": null,
      "outputs": []
    },
    {
      "cell_type": "code",
      "metadata": {
        "id": "1tr8S7swvdLE"
      },
      "source": [
        "!gzip /content/wiki_id_594431.tar"
      ],
      "execution_count": null,
      "outputs": []
    },
    {
      "cell_type": "code",
      "metadata": {
        "id": "Kz1kClRv9E0i"
      },
      "source": [
        "LANG_TEXT.drop(['labels', 'length'], axis=1, inplace=True)"
      ],
      "execution_count": 85,
      "outputs": []
    },
    {
      "cell_type": "code",
      "metadata": {
        "id": "YqLnzwnq9bbs"
      },
      "source": [
        "LANG_TEXT_5 = LANG_TEXT[:500000]"
      ],
      "execution_count": 87,
      "outputs": []
    },
    {
      "cell_type": "code",
      "metadata": {
        "id": "srWAZvq69lNk"
      },
      "source": [
        "LANG_TEXT_5.to_csv(f\"{PATH_ROOT}/wiki_{LANG}_corpus_500000_preprocessed.csv\", index=False)"
      ],
      "execution_count": 91,
      "outputs": []
    },
    {
      "cell_type": "code",
      "metadata": {
        "id": "0vOGt-J7-sDV"
      },
      "source": [
        "ptt = Path(f\"{PATH_ROOT}/\")"
      ],
      "execution_count": 93,
      "outputs": []
    },
    {
      "cell_type": "code",
      "metadata": {
        "colab": {
          "base_uri": "https://localhost:8080/"
        },
        "id": "hFGeDV16-yCh",
        "outputId": "89cabfc9-645a-455f-d05f-e7d9a3a19428"
      },
      "source": [
        "ptt.ls()"
      ],
      "execution_count": 94,
      "outputs": [
        {
          "output_type": "execute_result",
          "data": {
            "text/plain": [
              "[PosixPath('/content/drive/MyDrive/Riset/PKM-AI'),\n",
              " PosixPath('/content/drive/MyDrive/Riset/idwiki-latest-pages-articles.xml'),\n",
              " PosixPath('/content/drive/MyDrive/Riset/Computing'),\n",
              " PosixPath('/content/drive/MyDrive/Riset/riset_sunda'),\n",
              " PosixPath('/content/drive/MyDrive/Riset/idwiki-latest-pages-articles.csv'),\n",
              " PosixPath('/content/drive/MyDrive/Riset/wiki'),\n",
              " PosixPath('/content/drive/MyDrive/Riset/tmp'),\n",
              " PosixPath('/content/drive/MyDrive/Riset/wiki_id_corpus.csv'),\n",
              " PosixPath('/content/drive/MyDrive/Riset/wiki_id_corpus_500000_preprocessed.csv')]"
            ]
          },
          "metadata": {},
          "execution_count": 94
        }
      ]
    },
    {
      "cell_type": "code",
      "metadata": {
        "id": "Un1UJT5aCiBj"
      },
      "source": [
        "!cp /content/drive/MyDrive/Riset/wiki_id_corpus_500000_preprocessed.csv /content/wiki_id_corpus_500000_preprocessed.csv"
      ],
      "execution_count": 95,
      "outputs": []
    },
    {
      "cell_type": "code",
      "metadata": {
        "id": "AL1YuRFkHU7l"
      },
      "source": [
        "# lite version for easy debugging\n",
        "LANG_TEXT_50 = LANG_TEXT[:50]\n",
        "LANG_TEXT_50.to_csv(f\"{PATH_ROOT}/wiki_{LANG}_corpus_50_preprocessed.csv\", index=False)\n",
        "LANG_TEXT_25 = LANG_TEXT_50[:25]\n",
        "LANG_TEXT_25.to_csv(f\"{PATH_ROOT}/wiki_{LANG}_corpus_25_preprocessed.csv\", index=False)"
      ],
      "execution_count": 96,
      "outputs": []
    },
    {
      "cell_type": "code",
      "metadata": {
        "id": "uTBhY3PGH6_D"
      },
      "source": [
        "!cp /content/drive/MyDrive/Riset/wiki_id_corpus_50_preprocessed.csv /content/wiki_id_corpus_50_preprocessed.csv"
      ],
      "execution_count": 97,
      "outputs": []
    },
    {
      "cell_type": "code",
      "metadata": {
        "id": "laHBVrcUIDyH"
      },
      "source": [
        "!cp /content/drive/MyDrive/Riset/wiki_id_corpus_25_preprocessed.csv /content/wiki_id_corpus_25_preprocessed.csv"
      ],
      "execution_count": 98,
      "outputs": []
    },
    {
      "cell_type": "code",
      "metadata": {
        "id": "Jh6bSFZvIHIi"
      },
      "source": [
        ""
      ],
      "execution_count": null,
      "outputs": []
    }
  ]
}