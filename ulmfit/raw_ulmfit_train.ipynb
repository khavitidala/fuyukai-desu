{
  "nbformat": 4,
  "nbformat_minor": 0,
  "metadata": {
    "colab": {
      "name": "raw_ulmfit_train.ipynb",
      "provenance": [],
      "collapsed_sections": [],
      "include_colab_link": true
    },
    "kernelspec": {
      "display_name": "Python 3 (ipykernel)",
      "language": "python",
      "name": "python3"
    },
    "language_info": {
      "codemirror_mode": {
        "name": "ipython",
        "version": 3
      },
      "file_extension": ".py",
      "mimetype": "text/x-python",
      "name": "python",
      "nbconvert_exporter": "python",
      "pygments_lexer": "ipython3",
      "version": "3.8.10"
    }
  },
  "cells": [
    {
      "cell_type": "markdown",
      "metadata": {
        "id": "view-in-github",
        "colab_type": "text"
      },
      "source": [
        "<a href=\"https://colab.research.google.com/github/khavitidala/fuyukai-desu/blob/main/ulmfit/raw_ulmfit_train.ipynb\" target=\"_parent\"><img src=\"https://colab.research.google.com/assets/colab-badge.svg\" alt=\"Open In Colab\"/></a>"
      ]
    },
    {
      "cell_type": "code",
      "metadata": {
        "id": "XHXVtupOGsln"
      },
      "source": [
        "from fastbook import *\n",
        "from fastai.text.all import *\n",
        "import pandas as pd\n",
        "import numpy as np"
      ],
      "execution_count": null,
      "outputs": []
    },
    {
      "cell_type": "code",
      "metadata": {
        "id": "uBsY121pG92v"
      },
      "source": [
        "path = Path(\"data/\")"
      ],
      "execution_count": null,
      "outputs": []
    },
    {
      "cell_type": "code",
      "metadata": {
        "id": "dwTYj2v5HANc"
      },
      "source": [
        "get_corp = partial(get_text_files, folders=['wiki'])\n",
        "dls_lm = DataBlock(\n",
        "    blocks=TextBlock.from_folder(path, is_lm=True),\n",
        "    get_items=get_corp, splitter=RandomSplitter(0.1)\n",
        ").dataloaders(path, path=path, bs=64, seq_len=72)"
      ],
      "execution_count": null,
      "outputs": []
    },
    {
      "cell_type": "code",
      "metadata": {
        "id": "oXXjUOZsHFmS"
      },
      "source": [
        "learn = language_model_learner(dls_lm, AWD_LSTM, drop_mult=0.3, metrics=[accuracy, Perplexity()], pretrained=False).to_fp16()"
      ],
      "execution_count": null,
      "outputs": []
    },
    {
      "cell_type": "code",
      "metadata": {
        "id": "3XT3wwBeRJUU",
        "outputId": "8596cc22-b531-4462-b872-e5089714f11d"
      },
      "source": [
        "learn.model.cuda()"
      ],
      "execution_count": null,
      "outputs": [
        {
          "data": {
            "text/plain": [
              "SequentialRNN(\n",
              "  (0): AWD_LSTM(\n",
              "    (encoder): Embedding(60008, 400, padding_idx=1)\n",
              "    (encoder_dp): EmbeddingDropout(\n",
              "      (emb): Embedding(60008, 400, padding_idx=1)\n",
              "    )\n",
              "    (rnns): ModuleList(\n",
              "      (0): WeightDropout(\n",
              "        (module): LSTM(400, 1152, batch_first=True)\n",
              "      )\n",
              "      (1): WeightDropout(\n",
              "        (module): LSTM(1152, 1152, batch_first=True)\n",
              "      )\n",
              "      (2): WeightDropout(\n",
              "        (module): LSTM(1152, 400, batch_first=True)\n",
              "      )\n",
              "    )\n",
              "    (input_dp): RNNDropout()\n",
              "    (hidden_dps): ModuleList(\n",
              "      (0): RNNDropout()\n",
              "      (1): RNNDropout()\n",
              "      (2): RNNDropout()\n",
              "    )\n",
              "  )\n",
              "  (1): LinearDecoder(\n",
              "    (decoder): Linear(in_features=400, out_features=60008, bias=True)\n",
              "    (output_dp): RNNDropout()\n",
              "  )\n",
              ")"
            ]
          },
          "execution_count": 8,
          "metadata": {},
          "output_type": "execute_result"
        }
      ]
    },
    {
      "cell_type": "code",
      "metadata": {
        "id": "WoJ3rNifRlrS",
        "outputId": "6aa17121-6742-4552-820a-62217709b31e"
      },
      "source": [
        "learn.lr_find()"
      ],
      "execution_count": null,
      "outputs": [
        {
          "data": {
            "text/html": [],
            "text/plain": [
              "<IPython.core.display.HTML object>"
            ]
          },
          "metadata": {},
          "output_type": "display_data"
        },
        {
          "name": "stderr",
          "output_type": "stream",
          "text": [
            "/opt/conda/lib/python3.8/site-packages/fastai/callback/schedule.py:269: UserWarning: color is redundantly defined by the 'color' keyword argument and the fmt string \"ro\" (-> color='r'). The keyword argument will take precedence.\n",
            "  ax.plot(val, idx, 'ro', label=nm, c=color)\n"
          ]
        },
        {
          "data": {
            "text/plain": [
              "SuggestedLRs(valley=0.00015848931798245758)"
            ]
          },
          "execution_count": 5,
          "metadata": {},
          "output_type": "execute_result"
        },
        {
          "data": {
            "image/png": "[encoded data removed]",
            "text/plain": [
              "<Figure size 432x288 with 1 Axes>"
            ]
          },
          "metadata": {
            "needs_background": "light"
          },
          "output_type": "display_data"
        }
      ]
    },
    {
      "cell_type": "code",
      "metadata": {
        "id": "grUizHR6RJUZ",
        "outputId": "aee59e49-dff3-464e-f2e8-132b61799ca1"
      },
      "source": [
        "# the connection was error accidentally, so 10epoch.pth just save a model which has been trained on 2 epoch\n",
        "learn.load('10epoch')"
      ],
      "execution_count": null,
      "outputs": [
        {
          "data": {
            "text/plain": [
              "<fastai.text.learner.LMLearner at 0x7f9395d5dd30>"
            ]
          },
          "execution_count": 6,
          "metadata": {},
          "output_type": "execute_result"
        }
      ]
    },
    {
      "cell_type": "code",
      "metadata": {
        "id": "4Zx7FNgvHMAE",
        "outputId": "099ac042-1042-47d8-bb78-1257faf3b9db"
      },
      "source": [
        "# continue training on the last 8 epoch\n",
        "learn.fit_one_cycle(8, 0.00015, wd=0.1, cbs=SaveModelCallback(fname='10epoch',at_end=True))"
      ],
      "execution_count": null,
      "outputs": [
        {
          "data": {
            "text/html": [
              "<table border=\"1\" class=\"dataframe\">\n",
              "  <thead>\n",
              "    <tr style=\"text-align: left;\">\n",
              "      <th>epoch</th>\n",
              "      <th>train_loss</th>\n",
              "      <th>valid_loss</th>\n",
              "      <th>accuracy</th>\n",
              "      <th>perplexity</th>\n",
              "      <th>time</th>\n",
              "    </tr>\n",
              "  </thead>\n",
              "  <tbody>\n",
              "    <tr>\n",
              "      <td>0</td>\n",
              "      <td>3.624261</td>\n",
              "      <td>3.552382</td>\n",
              "      <td>0.397994</td>\n",
              "      <td>34.896351</td>\n",
              "      <td>1:30:34</td>\n",
              "    </tr>\n",
              "    <tr>\n",
              "      <td>1</td>\n",
              "      <td>3.515591</td>\n",
              "      <td>3.521508</td>\n",
              "      <td>0.401492</td>\n",
              "      <td>33.835430</td>\n",
              "      <td>1:27:26</td>\n",
              "    </tr>\n",
              "    <tr>\n",
              "      <td>2</td>\n",
              "      <td>3.512795</td>\n",
              "      <td>3.482150</td>\n",
              "      <td>0.406615</td>\n",
              "      <td>32.529587</td>\n",
              "      <td>1:27:38</td>\n",
              "    </tr>\n",
              "    <tr>\n",
              "      <td>3</td>\n",
              "      <td>3.512932</td>\n",
              "      <td>3.455889</td>\n",
              "      <td>0.409852</td>\n",
              "      <td>31.686460</td>\n",
              "      <td>1:27:19</td>\n",
              "    </tr>\n",
              "    <tr>\n",
              "      <td>4</td>\n",
              "      <td>3.483307</td>\n",
              "      <td>3.432370</td>\n",
              "      <td>0.412673</td>\n",
              "      <td>30.949921</td>\n",
              "      <td>1:25:58</td>\n",
              "    </tr>\n",
              "    <tr>\n",
              "      <td>5</td>\n",
              "      <td>3.414558</td>\n",
              "      <td>3.416905</td>\n",
              "      <td>0.414764</td>\n",
              "      <td>30.474947</td>\n",
              "      <td>1:26:03</td>\n",
              "    </tr>\n",
              "    <tr>\n",
              "      <td>6</td>\n",
              "      <td>3.512701</td>\n",
              "      <td>3.407069</td>\n",
              "      <td>0.416124</td>\n",
              "      <td>30.176659</td>\n",
              "      <td>1:26:53</td>\n",
              "    </tr>\n",
              "    <tr>\n",
              "      <td>7</td>\n",
              "      <td>3.439959</td>\n",
              "      <td>3.404470</td>\n",
              "      <td>0.416444</td>\n",
              "      <td>30.098331</td>\n",
              "      <td>1:43:34</td>\n",
              "    </tr>\n",
              "  </tbody>\n",
              "</table>"
            ],
            "text/plain": [
              "<IPython.core.display.HTML object>"
            ]
          },
          "metadata": {},
          "output_type": "display_data"
        },
        {
          "name": "stdout",
          "output_type": "stream",
          "text": [
            "Better model found at epoch 0 with valid_loss value: 3.552382230758667.\n",
            "Better model found at epoch 1 with valid_loss value: 3.5215084552764893.\n",
            "Better model found at epoch 2 with valid_loss value: 3.482150077819824.\n",
            "Better model found at epoch 3 with valid_loss value: 3.4558894634246826.\n",
            "Better model found at epoch 4 with valid_loss value: 3.43237042427063.\n",
            "Better model found at epoch 5 with valid_loss value: 3.416904926300049.\n",
            "Better model found at epoch 6 with valid_loss value: 3.4070687294006348.\n",
            "Better model found at epoch 7 with valid_loss value: 3.4044697284698486.\n"
          ]
        }
      ]
    },
    {
      "cell_type": "code",
      "metadata": {
        "id": "8YCqKQr7RJUc",
        "outputId": "3edd8918-d85e-4b8c-84f2-4b7344bac506"
      },
      "source": [
        "learn.summary()"
      ],
      "execution_count": null,
      "outputs": [
        {
          "data": {
            "text/html": [],
            "text/plain": [
              "<IPython.core.display.HTML object>"
            ]
          },
          "metadata": {},
          "output_type": "display_data"
        },
        {
          "data": {
            "text/plain": [
              "SequentialRNN (Input shape: 64)\n",
              "============================================================================\n",
              "Layer (type)         Output Shape         Param #    Trainable \n",
              "============================================================================\n",
              "                     []                  \n",
              "LSTM                                                           \n",
              "LSTM                                                           \n",
              "LSTM                                                           \n",
              "RNNDropout                                                     \n",
              "RNNDropout                                                     \n",
              "RNNDropout                                                     \n",
              "____________________________________________________________________________\n",
              "                     64 x 72 x 60008     \n",
              "Linear                                    24063208   True      \n",
              "RNNDropout                                                     \n",
              "____________________________________________________________________________\n",
              "\n",
              "Total params: 24,063,208\n",
              "Total trainable params: 24,063,208\n",
              "Total non-trainable params: 0\n",
              "\n",
              "Optimizer used: <function Adam at 0x7f93c80cce50>\n",
              "Loss function: FlattenedLoss of CrossEntropyLoss()\n",
              "\n",
              "Model unfrozen\n",
              "\n",
              "Callbacks:\n",
              "  - TrainEvalCallback\n",
              "  - ModelResetter\n",
              "  - RNNCallback\n",
              "  - MixedPrecision\n",
              "  - Recorder\n",
              "  - ProgressCallback"
            ]
          },
          "execution_count": 7,
          "metadata": {},
          "output_type": "execute_result"
        }
      ]
    },
    {
      "cell_type": "code",
      "metadata": {
        "id": "zFePA3wlRJUf"
      },
      "source": [
        ""
      ],
      "execution_count": null,
      "outputs": []
    }
  ]
}